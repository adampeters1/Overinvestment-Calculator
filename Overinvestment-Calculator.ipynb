{
 "cells": [
  {
   "cell_type": "markdown",
   "metadata": {},
   "source": [
    "# PLEASE ONLY USE \"CELL -> RUN ALL\", otherwise factors may be recalculated prior to the final model. Also i renamed the .csv's as there were grammatical errors."
   ]
  },
  {
   "cell_type": "markdown",
   "metadata": {},
   "source": [
    "# Import the libraries used:"
   ]
  },
  {
   "cell_type": "code",
   "execution_count": 55,
   "metadata": {},
   "outputs": [],
   "source": [
    "import warnings\n",
    "warnings.simplefilter(action = 'ignore', category = FutureWarning)\n",
    "\n",
    "from IPython.display import display\n",
    "\n",
    "import pandas as pd\n",
    "import numpy as np\n",
    "import seaborn as sns\n",
    "\n",
    "import matplotlib\n",
    "import matplotlib.pyplot as plt\n",
    "from matplotlib import cm\n",
    "\n",
    "from sklearn.linear_model import LinearRegression\n",
    "from sklearn.preprocessing import PolynomialFeatures\n",
    "from sklearn.preprocessing import MinMaxScaler\n",
    "from sklearn import metrics\n",
    "from sklearn.metrics import r2_score\n",
    "from sklearn.model_selection import KFold\n",
    "\n",
    "from scipy.stats import norm\n",
    "\n",
    "from mpl_toolkits.mplot3d import Axes3D\n",
    "\n",
    "import math\n",
    "\n",
    "pd.options.mode.chained_assignment = None\n",
    "pd.set_option('display.float_format', lambda x: '%.5f' % x)\n",
    "\n",
    "np.set_printoptions(suppress = True)\n",
    "\n",
    "plt.rcParams.update({'font.size':12, 'figure.figsize':(10, 5)}) # set font and plot sizer to be bigger\n"
   ]
  },
  {
   "cell_type": "markdown",
   "metadata": {},
   "source": [
    "# Functions (Methods):"
   ]
  },
  {
   "cell_type": "code",
   "execution_count": 56,
   "metadata": {},
   "outputs": [],
   "source": [
    "# Initial data exploration of a dataframe:\n",
    "def inspect_dataset(dataset):\n",
    "    display(dataset.head(2))\n",
    "    display(dataset.info())\n",
    "    display(dataset.shape)\n",
    "    display(dataset.describe())\n"
   ]
  },
  {
   "cell_type": "code",
   "execution_count": 57,
   "metadata": {},
   "outputs": [],
   "source": [
    "# Display all the values of each column, in order to inspect them for invalid entries:\n",
    "def displayColumnValues(df):\n",
    "    for column in df:\n",
    "        print(column, \": \")\n",
    "        print(df[column].unique(), \"\\n\")\n"
   ]
  },
  {
   "cell_type": "code",
   "execution_count": 58,
   "metadata": {},
   "outputs": [],
   "source": [
    "# Plot the distributions for all the columns in a df:\n",
    "\n",
    "def plot_columns(dataframe):\n",
    "    for x in dataframe:\n",
    "        ax = plt.subplot()\n",
    "        ax.ticklabel_format(useOffset=False, style='plain') # THIS DISABLES MATHEMATICAL NOTATION FOR LARGE INTS.\n",
    "        \n",
    "        sns.boxplot(dataframe[x])\n",
    "        plt.show()\n"
   ]
  },
  {
   "cell_type": "code",
   "execution_count": 59,
   "metadata": {},
   "outputs": [],
   "source": [
    "# Display all the rows with null data:\n",
    "def display_null_data(dataframe):\n",
    "    null_masks = dataframe.isnull().any(axis = 1)   # list of null values in any of the columns (axis = 1)\n",
    "    null_data = dataframe[null_masks]\n",
    "    display(null_data)  # dataframe with all rows with missing values\n"
   ]
  },
  {
   "cell_type": "code",
   "execution_count": 60,
   "metadata": {},
   "outputs": [],
   "source": [
    "# Check to see if all the values in a column are numeric by requesting the median:\n",
    "def check_if_numeric(df):\n",
    "    for col in df:\n",
    "        df[col].median()\n",
    "    print(\"True\")"
   ]
  },
  {
   "cell_type": "code",
   "execution_count": 61,
   "metadata": {},
   "outputs": [],
   "source": [
    "# Display the IQR of a df's columns:\n",
    "def display_IQR(df):\n",
    "    for col in df:\n",
    "        Q1 = df[col].quantile(0.25)\n",
    "        Q3 = df[col].quantile(0.75)\n",
    "        IQR = Q3 - Q1\n",
    "        print(\"---------%s---------\" % col)\n",
    "        print(\"IQR: \", IQR)\n",
    "        print(\"Q1:\", Q1)\n",
    "        print(\"Q3:\", Q3)\n",
    "\n",
    "        bot = Q1 - 1.5 * IQR\n",
    "        top = Q3 + 1.5 * IQR\n",
    "        rangee = top - bot\n",
    "        \n",
    "        print(\"bottom shadow:\", bot)\n",
    "        print(\"top shadow\", top)\n",
    "        print(\"range: \", rangee, \"\\n\")\n"
   ]
  },
  {
   "cell_type": "markdown",
   "metadata": {},
   "source": [
    "# Pre-Processing:"
   ]
  },
  {
   "cell_type": "markdown",
   "metadata": {},
   "source": [
    "## Create Initial DataFrames:"
   ]
  },
  {
   "cell_type": "code",
   "execution_count": 62,
   "metadata": {
    "scrolled": true
   },
   "outputs": [],
   "source": [
    "invest_2019 = pd.read_csv(\"Investment_2019.csv\")\n",
    "invest_2018 = pd.read_csv(\"financial_report_2018.csv\")"
   ]
  },
  {
   "cell_type": "markdown",
   "metadata": {},
   "source": [
    "## Inspect the dataframes: (Commented due to size + info already gotten.)"
   ]
  },
  {
   "cell_type": "code",
   "execution_count": 63,
   "metadata": {
    "scrolled": false
   },
   "outputs": [],
   "source": [
    "#inspect_dataset(invest_2019)    # (3845, 2) - SHAPE\n",
    "#invest_2019.isnull().sum()        # 2225 null values - (Investment2019)\n",
    "#invest_2019.info()\n",
    "\n",
    "#inspect_dataset(invest_2018)    # (3845, 13) - SHAPE\n",
    "#invest_2018.isnull().sum()        # 28 null values - (Stock Return)\n",
    "#invest_2018.info()"
   ]
  },
  {
   "cell_type": "markdown",
   "metadata": {},
   "source": [
    "# DATA CLEANING:"
   ]
  },
  {
   "cell_type": "markdown",
   "metadata": {},
   "source": [
    "## Cleaning the 2019 CSV:\n",
    "### Finding bad values, replacing the Null values: (Investment2019)"
   ]
  },
  {
   "cell_type": "code",
   "execution_count": 64,
   "metadata": {
    "scrolled": false
   },
   "outputs": [
    {
     "data": {
      "text/html": [
       "<div>\n",
       "<style scoped>\n",
       "    .dataframe tbody tr th:only-of-type {\n",
       "        vertical-align: middle;\n",
       "    }\n",
       "\n",
       "    .dataframe tbody tr th {\n",
       "        vertical-align: top;\n",
       "    }\n",
       "\n",
       "    .dataframe thead th {\n",
       "        text-align: right;\n",
       "    }\n",
       "</style>\n",
       "<table border=\"1\" class=\"dataframe\">\n",
       "  <thead>\n",
       "    <tr style=\"text-align: right;\">\n",
       "      <th></th>\n",
       "      <th>Stock Code</th>\n",
       "      <th>Investment2019</th>\n",
       "    </tr>\n",
       "  </thead>\n",
       "  <tbody>\n",
       "    <tr>\n",
       "      <th>0</th>\n",
       "      <td>900939</td>\n",
       "      <td>NaN</td>\n",
       "    </tr>\n",
       "    <tr>\n",
       "      <th>2</th>\n",
       "      <td>900952</td>\n",
       "      <td>NaN</td>\n",
       "    </tr>\n",
       "    <tr>\n",
       "      <th>4</th>\n",
       "      <td>900957</td>\n",
       "      <td>NaN</td>\n",
       "    </tr>\n",
       "    <tr>\n",
       "      <th>5</th>\n",
       "      <td>900937</td>\n",
       "      <td>NaN</td>\n",
       "    </tr>\n",
       "    <tr>\n",
       "      <th>6</th>\n",
       "      <td>900928</td>\n",
       "      <td>NaN</td>\n",
       "    </tr>\n",
       "    <tr>\n",
       "      <th>...</th>\n",
       "      <td>...</td>\n",
       "      <td>...</td>\n",
       "    </tr>\n",
       "    <tr>\n",
       "      <th>3836</th>\n",
       "      <td>600653</td>\n",
       "      <td>NaN</td>\n",
       "    </tr>\n",
       "    <tr>\n",
       "      <th>3839</th>\n",
       "      <td>600654</td>\n",
       "      <td>NaN</td>\n",
       "    </tr>\n",
       "    <tr>\n",
       "      <th>3840</th>\n",
       "      <td>600602</td>\n",
       "      <td>NaN</td>\n",
       "    </tr>\n",
       "    <tr>\n",
       "      <th>3843</th>\n",
       "      <td>2399</td>\n",
       "      <td>NaN</td>\n",
       "    </tr>\n",
       "    <tr>\n",
       "      <th>3844</th>\n",
       "      <td>600393</td>\n",
       "      <td>NaN</td>\n",
       "    </tr>\n",
       "  </tbody>\n",
       "</table>\n",
       "<p>2238 rows × 2 columns</p>\n",
       "</div>"
      ],
      "text/plain": [
       "      Stock Code  Investment2019\n",
       "0         900939             NaN\n",
       "2         900952             NaN\n",
       "4         900957             NaN\n",
       "5         900937             NaN\n",
       "6         900928             NaN\n",
       "...          ...             ...\n",
       "3836      600653             NaN\n",
       "3839      600654             NaN\n",
       "3840      600602             NaN\n",
       "3843        2399             NaN\n",
       "3844      600393             NaN\n",
       "\n",
       "[2238 rows x 2 columns]"
      ]
     },
     "metadata": {},
     "output_type": "display_data"
    },
    {
     "name": "stdout",
     "output_type": "stream",
     "text": [
      "<class 'pandas.core.frame.DataFrame'>\n",
      "RangeIndex: 3845 entries, 0 to 3844\n",
      "Data columns (total 2 columns):\n",
      " #   Column          Non-Null Count  Dtype  \n",
      "---  ------          --------------  -----  \n",
      " 0   Stock Code      3845 non-null   int64  \n",
      " 1   Investment2019  1607 non-null   float64\n",
      "dtypes: float64(1), int64(1)\n",
      "memory usage: 60.2 KB\n"
     ]
    }
   ],
   "source": [
    "# display_null_data(invest_2019)\n",
    "# displayColumnValues(invest_2019)\n",
    "\n",
    "# So as each column value only has 1 instance we will use the median to replace negative/null values.\n",
    "median_investment_2019 = invest_2019['Investment2019'].median()\n",
    "\n",
    "# Use list comprehension to find any data that is less than 0 (You cannot invest a negative amount), meaning null.\n",
    "invest_2019['Investment2019'][invest_2019['Investment2019'] <= 0] = np.nan\n",
    "\n",
    "\n",
    "#inspect_dataset(invest_2019)\n",
    "display_null_data(invest_2019)\n",
    "invest_2019.info()    # Null data final check (Stock Code will be dropped later)"
   ]
  },
  {
   "cell_type": "markdown",
   "metadata": {},
   "source": [
    "## Cleaning the 2018 CSV:"
   ]
  },
  {
   "cell_type": "code",
   "execution_count": 65,
   "metadata": {},
   "outputs": [],
   "source": [
    "invest_2018.rename(columns={'Leverage ': 'Leverage'}, inplace=True)    # This column had whitespace at the end."
   ]
  },
  {
   "cell_type": "markdown",
   "metadata": {},
   "source": [
    "### Finding bad values, replacing the Null values: (Stock Return)"
   ]
  },
  {
   "cell_type": "code",
   "execution_count": 66,
   "metadata": {
    "scrolled": false
   },
   "outputs": [
    {
     "data": {
      "text/html": [
       "<div>\n",
       "<style scoped>\n",
       "    .dataframe tbody tr th:only-of-type {\n",
       "        vertical-align: middle;\n",
       "    }\n",
       "\n",
       "    .dataframe tbody tr th {\n",
       "        vertical-align: top;\n",
       "    }\n",
       "\n",
       "    .dataframe thead th {\n",
       "        text-align: right;\n",
       "    }\n",
       "</style>\n",
       "<table border=\"1\" class=\"dataframe\">\n",
       "  <thead>\n",
       "    <tr style=\"text-align: right;\">\n",
       "      <th></th>\n",
       "      <th>Stock Code</th>\n",
       "      <th>Market Value of Equity</th>\n",
       "      <th>Total Market Value</th>\n",
       "      <th>Stock Return</th>\n",
       "      <th>Total Investment Expenditure</th>\n",
       "      <th>Amortization and Depreciation</th>\n",
       "      <th>Book Value</th>\n",
       "      <th>Operating Income after Depreciation</th>\n",
       "      <th>Annual Dividends</th>\n",
       "      <th>Leverage</th>\n",
       "      <th>Cash</th>\n",
       "      <th>Age</th>\n",
       "      <th>Size</th>\n",
       "    </tr>\n",
       "  </thead>\n",
       "  <tbody>\n",
       "  </tbody>\n",
       "</table>\n",
       "</div>"
      ],
      "text/plain": [
       "Empty DataFrame\n",
       "Columns: [Stock Code, Market Value of Equity, Total Market Value, Stock Return, Total Investment Expenditure, Amortization and Depreciation, Book Value, Operating Income after Depreciation, Annual Dividends, Leverage, Cash, Age, Size]\n",
       "Index: []"
      ]
     },
     "metadata": {},
     "output_type": "display_data"
    }
   ],
   "source": [
    "# display_null_data(invest_2018)\n",
    "# displayColumnValues(invest_2018)\n",
    "\n",
    "#invest_2018['Stock Return'].value_counts()    # 0.000000 is most common, meaning null values will be replaced with this.\n",
    "invest_2018['Stock Return'].fillna(0.000000, inplace = True)    # minus numbers are allowed (negative returns)\n",
    "\n",
    "display_null_data(invest_2018)\n"
   ]
  },
  {
   "cell_type": "markdown",
   "metadata": {},
   "source": [
    "### Finding bad values, changing Dtype: (Size)"
   ]
  },
  {
   "cell_type": "code",
   "execution_count": 67,
   "metadata": {},
   "outputs": [
    {
     "data": {
      "text/html": [
       "<div>\n",
       "<style scoped>\n",
       "    .dataframe tbody tr th:only-of-type {\n",
       "        vertical-align: middle;\n",
       "    }\n",
       "\n",
       "    .dataframe tbody tr th {\n",
       "        vertical-align: top;\n",
       "    }\n",
       "\n",
       "    .dataframe thead th {\n",
       "        text-align: right;\n",
       "    }\n",
       "</style>\n",
       "<table border=\"1\" class=\"dataframe\">\n",
       "  <thead>\n",
       "    <tr style=\"text-align: right;\">\n",
       "      <th></th>\n",
       "      <th>Stock Code</th>\n",
       "      <th>Market Value of Equity</th>\n",
       "      <th>Total Market Value</th>\n",
       "      <th>Stock Return</th>\n",
       "      <th>Total Investment Expenditure</th>\n",
       "      <th>Amortization and Depreciation</th>\n",
       "      <th>Book Value</th>\n",
       "      <th>Operating Income after Depreciation</th>\n",
       "      <th>Annual Dividends</th>\n",
       "      <th>Leverage</th>\n",
       "      <th>Cash</th>\n",
       "      <th>Age</th>\n",
       "      <th>Size</th>\n",
       "    </tr>\n",
       "  </thead>\n",
       "  <tbody>\n",
       "  </tbody>\n",
       "</table>\n",
       "</div>"
      ],
      "text/plain": [
       "Empty DataFrame\n",
       "Columns: [Stock Code, Market Value of Equity, Total Market Value, Stock Return, Total Investment Expenditure, Amortization and Depreciation, Book Value, Operating Income after Depreciation, Annual Dividends, Leverage, Cash, Age, Size]\n",
       "Index: []"
      ]
     },
     "metadata": {},
     "output_type": "display_data"
    },
    {
     "name": "stdout",
     "output_type": "stream",
     "text": [
      "<class 'pandas.core.frame.DataFrame'>\n",
      "RangeIndex: 3845 entries, 0 to 3844\n",
      "Data columns (total 13 columns):\n",
      " #   Column                               Non-Null Count  Dtype  \n",
      "---  ------                               --------------  -----  \n",
      " 0   Stock Code                           3845 non-null   int64  \n",
      " 1   Market Value of Equity               3845 non-null   float64\n",
      " 2   Total Market Value                   3845 non-null   float64\n",
      " 3   Stock Return                         3845 non-null   float64\n",
      " 4   Total Investment Expenditure         3845 non-null   float64\n",
      " 5   Amortization and Depreciation        3845 non-null   float64\n",
      " 6   Book Value                           3845 non-null   float64\n",
      " 7   Operating Income after Depreciation  3845 non-null   float64\n",
      " 8   Annual Dividends                     3845 non-null   float64\n",
      " 9   Leverage                             3845 non-null   float64\n",
      " 10  Cash                                 3845 non-null   float64\n",
      " 11  Age                                  3845 non-null   float64\n",
      " 12  Size                                 3845 non-null   float64\n",
      "dtypes: float64(12), int64(1)\n",
      "memory usage: 390.6 KB\n"
     ]
    }
   ],
   "source": [
    "# invest_2018['Size'].value_counts()    # this is unhelpful as there are multiple values with 3 entries, so use median.\n",
    "\n",
    "invest_2018['Size'][invest_2018['Size'] == \"#NUM!\"] = np.nan    # Non-numeric.\n",
    "\n",
    "median_size = invest_2018['Size'].median()\n",
    "\n",
    "invest_2018['Size'].fillna(median_size, inplace = True)    # Use median for null values.\n",
    "\n",
    "invest_2018['Size'] = pd.to_numeric(invest_2018['Size'])\n",
    "\n",
    "display_null_data(invest_2018)\n",
    "\n",
    "invest_2018.info()    # Null data final check"
   ]
  },
  {
   "cell_type": "markdown",
   "metadata": {},
   "source": [
    "## This function is an easy check to make sure no non numeric values are lurking in the huge databases, if there is it will fail."
   ]
  },
  {
   "cell_type": "code",
   "execution_count": 68,
   "metadata": {
    "scrolled": false
   },
   "outputs": [
    {
     "name": "stdout",
     "output_type": "stream",
     "text": [
      "True\n",
      "True\n"
     ]
    }
   ],
   "source": [
    "check_if_numeric(invest_2019)\n",
    "check_if_numeric(invest_2018)"
   ]
  },
  {
   "cell_type": "markdown",
   "metadata": {},
   "source": [
    "# Aggregate the databases to a .csv:"
   ]
  },
  {
   "cell_type": "code",
   "execution_count": 69,
   "metadata": {},
   "outputs": [
    {
     "data": {
      "text/html": [
       "<div>\n",
       "<style scoped>\n",
       "    .dataframe tbody tr th:only-of-type {\n",
       "        vertical-align: middle;\n",
       "    }\n",
       "\n",
       "    .dataframe tbody tr th {\n",
       "        vertical-align: top;\n",
       "    }\n",
       "\n",
       "    .dataframe thead th {\n",
       "        text-align: right;\n",
       "    }\n",
       "</style>\n",
       "<table border=\"1\" class=\"dataframe\">\n",
       "  <thead>\n",
       "    <tr style=\"text-align: right;\">\n",
       "      <th></th>\n",
       "      <th>Stock Code</th>\n",
       "      <th>Investment2019</th>\n",
       "    </tr>\n",
       "  </thead>\n",
       "  <tbody>\n",
       "    <tr>\n",
       "      <th>0</th>\n",
       "      <td>900939</td>\n",
       "      <td>NaN</td>\n",
       "    </tr>\n",
       "    <tr>\n",
       "      <th>1</th>\n",
       "      <td>900956</td>\n",
       "      <td>426.65225</td>\n",
       "    </tr>\n",
       "  </tbody>\n",
       "</table>\n",
       "</div>"
      ],
      "text/plain": [
       "   Stock Code  Investment2019\n",
       "0      900939             NaN\n",
       "1      900956       426.65225"
      ]
     },
     "execution_count": 69,
     "metadata": {},
     "output_type": "execute_result"
    },
    {
     "data": {
      "text/html": [
       "<div>\n",
       "<style scoped>\n",
       "    .dataframe tbody tr th:only-of-type {\n",
       "        vertical-align: middle;\n",
       "    }\n",
       "\n",
       "    .dataframe tbody tr th {\n",
       "        vertical-align: top;\n",
       "    }\n",
       "\n",
       "    .dataframe thead th {\n",
       "        text-align: right;\n",
       "    }\n",
       "</style>\n",
       "<table border=\"1\" class=\"dataframe\">\n",
       "  <thead>\n",
       "    <tr style=\"text-align: right;\">\n",
       "      <th></th>\n",
       "      <th>Stock Code</th>\n",
       "      <th>Market Value of Equity</th>\n",
       "      <th>Total Market Value</th>\n",
       "      <th>Stock Return</th>\n",
       "      <th>Total Investment Expenditure</th>\n",
       "      <th>Amortization and Depreciation</th>\n",
       "      <th>Book Value</th>\n",
       "      <th>Operating Income after Depreciation</th>\n",
       "      <th>Annual Dividends</th>\n",
       "      <th>Leverage</th>\n",
       "      <th>Cash</th>\n",
       "      <th>Age</th>\n",
       "      <th>Size</th>\n",
       "    </tr>\n",
       "  </thead>\n",
       "  <tbody>\n",
       "    <tr>\n",
       "      <th>0</th>\n",
       "      <td>900939</td>\n",
       "      <td>57992.00000</td>\n",
       "      <td>119608.50000</td>\n",
       "      <td>0.08925</td>\n",
       "      <td>736.49840</td>\n",
       "      <td>529.17700</td>\n",
       "      <td>18557.44000</td>\n",
       "      <td>3618.70080</td>\n",
       "      <td>767.16457</td>\n",
       "      <td>0.77995</td>\n",
       "      <td>2109.89394</td>\n",
       "      <td>1.23045</td>\n",
       "      <td>6.16485</td>\n",
       "    </tr>\n",
       "    <tr>\n",
       "      <th>1</th>\n",
       "      <td>900956</td>\n",
       "      <td>153180.00000</td>\n",
       "      <td>313020.00000</td>\n",
       "      <td>0.07394</td>\n",
       "      <td>1945.38600</td>\n",
       "      <td>1282.88250</td>\n",
       "      <td>75058.20000</td>\n",
       "      <td>12609.77760</td>\n",
       "      <td>3366.81062</td>\n",
       "      <td>0.75709</td>\n",
       "      <td>2983.08060</td>\n",
       "      <td>0.00000</td>\n",
       "      <td>7.48570</td>\n",
       "    </tr>\n",
       "  </tbody>\n",
       "</table>\n",
       "</div>"
      ],
      "text/plain": [
       "   Stock Code  Market Value of Equity  Total Market Value  Stock Return  \\\n",
       "0      900939             57992.00000        119608.50000       0.08925   \n",
       "1      900956            153180.00000        313020.00000       0.07394   \n",
       "\n",
       "   Total Investment Expenditure  Amortization and Depreciation  Book Value  \\\n",
       "0                     736.49840                      529.17700 18557.44000   \n",
       "1                    1945.38600                     1282.88250 75058.20000   \n",
       "\n",
       "   Operating Income after Depreciation  Annual Dividends  Leverage       Cash  \\\n",
       "0                           3618.70080         767.16457   0.77995 2109.89394   \n",
       "1                          12609.77760        3366.81062   0.75709 2983.08060   \n",
       "\n",
       "      Age    Size  \n",
       "0 1.23045 6.16485  \n",
       "1 0.00000 7.48570  "
      ]
     },
     "execution_count": 69,
     "metadata": {},
     "output_type": "execute_result"
    },
    {
     "data": {
      "text/html": [
       "<div>\n",
       "<style scoped>\n",
       "    .dataframe tbody tr th:only-of-type {\n",
       "        vertical-align: middle;\n",
       "    }\n",
       "\n",
       "    .dataframe tbody tr th {\n",
       "        vertical-align: top;\n",
       "    }\n",
       "\n",
       "    .dataframe thead th {\n",
       "        text-align: right;\n",
       "    }\n",
       "</style>\n",
       "<table border=\"1\" class=\"dataframe\">\n",
       "  <thead>\n",
       "    <tr style=\"text-align: right;\">\n",
       "      <th></th>\n",
       "      <th>Stock Code</th>\n",
       "      <th>Investment2019</th>\n",
       "      <th>Market Value of Equity</th>\n",
       "      <th>Total Market Value</th>\n",
       "      <th>Stock Return</th>\n",
       "      <th>Total Investment Expenditure</th>\n",
       "      <th>Amortization and Depreciation</th>\n",
       "      <th>Book Value</th>\n",
       "      <th>Operating Income after Depreciation</th>\n",
       "      <th>Annual Dividends</th>\n",
       "      <th>Leverage</th>\n",
       "      <th>Cash</th>\n",
       "      <th>Age</th>\n",
       "      <th>Size</th>\n",
       "    </tr>\n",
       "  </thead>\n",
       "  <tbody>\n",
       "    <tr>\n",
       "      <th>0</th>\n",
       "      <td>900939</td>\n",
       "      <td>NaN</td>\n",
       "      <td>57992.00000</td>\n",
       "      <td>119608.50000</td>\n",
       "      <td>0.08925</td>\n",
       "      <td>736.49840</td>\n",
       "      <td>529.17700</td>\n",
       "      <td>18557.44000</td>\n",
       "      <td>3618.70080</td>\n",
       "      <td>767.16457</td>\n",
       "      <td>0.77995</td>\n",
       "      <td>2109.89394</td>\n",
       "      <td>1.23045</td>\n",
       "      <td>6.16485</td>\n",
       "    </tr>\n",
       "  </tbody>\n",
       "</table>\n",
       "</div>"
      ],
      "text/plain": [
       "   Stock Code  Investment2019  Market Value of Equity  Total Market Value  \\\n",
       "0      900939             NaN             57992.00000        119608.50000   \n",
       "\n",
       "   Stock Return  Total Investment Expenditure  Amortization and Depreciation  \\\n",
       "0       0.08925                     736.49840                      529.17700   \n",
       "\n",
       "   Book Value  Operating Income after Depreciation  Annual Dividends  \\\n",
       "0 18557.44000                           3618.70080         767.16457   \n",
       "\n",
       "   Leverage       Cash     Age    Size  \n",
       "0   0.77995 2109.89394 1.23045 6.16485  "
      ]
     },
     "execution_count": 69,
     "metadata": {},
     "output_type": "execute_result"
    },
    {
     "data": {
      "text/plain": [
       "pandas.core.frame.DataFrame"
      ]
     },
     "execution_count": 69,
     "metadata": {},
     "output_type": "execute_result"
    },
    {
     "data": {
      "text/plain": [
       "(3845, 14)"
      ]
     },
     "execution_count": 69,
     "metadata": {},
     "output_type": "execute_result"
    },
    {
     "data": {
      "text/plain": [
       "(1607, 14)"
      ]
     },
     "execution_count": 69,
     "metadata": {},
     "output_type": "execute_result"
    },
    {
     "data": {
      "text/html": [
       "<div>\n",
       "<style scoped>\n",
       "    .dataframe tbody tr th:only-of-type {\n",
       "        vertical-align: middle;\n",
       "    }\n",
       "\n",
       "    .dataframe tbody tr th {\n",
       "        vertical-align: top;\n",
       "    }\n",
       "\n",
       "    .dataframe thead th {\n",
       "        text-align: right;\n",
       "    }\n",
       "</style>\n",
       "<table border=\"1\" class=\"dataframe\">\n",
       "  <thead>\n",
       "    <tr style=\"text-align: right;\">\n",
       "      <th></th>\n",
       "      <th>Stock Code</th>\n",
       "      <th>Investment2019</th>\n",
       "      <th>Market Value of Equity</th>\n",
       "      <th>Total Market Value</th>\n",
       "      <th>Stock Return</th>\n",
       "      <th>Total Investment Expenditure</th>\n",
       "      <th>Amortization and Depreciation</th>\n",
       "      <th>Book Value</th>\n",
       "      <th>Operating Income after Depreciation</th>\n",
       "      <th>Annual Dividends</th>\n",
       "      <th>Leverage</th>\n",
       "      <th>Cash</th>\n",
       "      <th>Age</th>\n",
       "      <th>Size</th>\n",
       "    </tr>\n",
       "  </thead>\n",
       "  <tbody>\n",
       "    <tr>\n",
       "      <th>1</th>\n",
       "      <td>900956</td>\n",
       "      <td>426.65225</td>\n",
       "      <td>153180.00000</td>\n",
       "      <td>313020.00000</td>\n",
       "      <td>0.07394</td>\n",
       "      <td>1945.38600</td>\n",
       "      <td>1282.88250</td>\n",
       "      <td>75058.20000</td>\n",
       "      <td>12609.77760</td>\n",
       "      <td>3366.81062</td>\n",
       "      <td>0.75709</td>\n",
       "      <td>2983.08060</td>\n",
       "      <td>0.00000</td>\n",
       "      <td>7.48570</td>\n",
       "    </tr>\n",
       "    <tr>\n",
       "      <th>3</th>\n",
       "      <td>900933</td>\n",
       "      <td>14590.06190</td>\n",
       "      <td>1526013.44000</td>\n",
       "      <td>1526013.44000</td>\n",
       "      <td>0.07117</td>\n",
       "      <td>24721.41773</td>\n",
       "      <td>14497.12768</td>\n",
       "      <td>656185.77920</td>\n",
       "      <td>131237.15580</td>\n",
       "      <td>26247.43117</td>\n",
       "      <td>0.43887</td>\n",
       "      <td>83686.57705</td>\n",
       "      <td>0.47712</td>\n",
       "      <td>6.54998</td>\n",
       "    </tr>\n",
       "  </tbody>\n",
       "</table>\n",
       "</div>"
      ],
      "text/plain": [
       "   Stock Code  Investment2019  Market Value of Equity  Total Market Value  \\\n",
       "1      900956       426.65225            153180.00000        313020.00000   \n",
       "3      900933     14590.06190           1526013.44000       1526013.44000   \n",
       "\n",
       "   Stock Return  Total Investment Expenditure  Amortization and Depreciation  \\\n",
       "1       0.07394                    1945.38600                     1282.88250   \n",
       "3       0.07117                   24721.41773                    14497.12768   \n",
       "\n",
       "    Book Value  Operating Income after Depreciation  Annual Dividends  \\\n",
       "1  75058.20000                          12609.77760        3366.81062   \n",
       "3 656185.77920                         131237.15580       26247.43117   \n",
       "\n",
       "   Leverage        Cash     Age    Size  \n",
       "1   0.75709  2983.08060 0.00000 7.48570  \n",
       "3   0.43887 83686.57705 0.47712 6.54998  "
      ]
     },
     "execution_count": 69,
     "metadata": {},
     "output_type": "execute_result"
    }
   ],
   "source": [
    "# Check values before:\n",
    "invest_2019.head(2)\n",
    "invest_2018.head(2)\n",
    "\n",
    "# Merge into new DF:\n",
    "combined_investments = pd.DataFrame()\n",
    "combined_investments = pd.merge(invest_2019, invest_2018, how = 'outer')\n",
    "\n",
    "# Check values after:\n",
    "combined_investments.head(1)\n",
    "type(combined_investments)\n",
    "\n",
    "# Check shape prior + after dropping np.nan's.\n",
    "combined_investments.shape\n",
    "combined_investments.dropna(inplace = True)\n",
    "combined_investments.shape\n",
    "combined_investments.head(2)\n",
    "\n",
    "combined_investments.to_csv(\"samples_for_regression.csv\")\n"
   ]
  },
  {
   "cell_type": "markdown",
   "metadata": {},
   "source": [
    "# Read in the new dataframe from the merged .csv:"
   ]
  },
  {
   "cell_type": "code",
   "execution_count": 70,
   "metadata": {},
   "outputs": [
    {
     "data": {
      "text/html": [
       "<div>\n",
       "<style scoped>\n",
       "    .dataframe tbody tr th:only-of-type {\n",
       "        vertical-align: middle;\n",
       "    }\n",
       "\n",
       "    .dataframe tbody tr th {\n",
       "        vertical-align: top;\n",
       "    }\n",
       "\n",
       "    .dataframe thead th {\n",
       "        text-align: right;\n",
       "    }\n",
       "</style>\n",
       "<table border=\"1\" class=\"dataframe\">\n",
       "  <thead>\n",
       "    <tr style=\"text-align: right;\">\n",
       "      <th></th>\n",
       "      <th>Stock Code</th>\n",
       "      <th>Investment2019</th>\n",
       "      <th>Market Value of Equity</th>\n",
       "      <th>Total Market Value</th>\n",
       "      <th>Stock Return</th>\n",
       "      <th>Total Investment Expenditure</th>\n",
       "      <th>Amortization and Depreciation</th>\n",
       "      <th>Book Value</th>\n",
       "      <th>Operating Income after Depreciation</th>\n",
       "      <th>Annual Dividends</th>\n",
       "      <th>Leverage</th>\n",
       "      <th>Cash</th>\n",
       "      <th>Age</th>\n",
       "      <th>Size</th>\n",
       "    </tr>\n",
       "  </thead>\n",
       "  <tbody>\n",
       "    <tr>\n",
       "      <th>0</th>\n",
       "      <td>900956</td>\n",
       "      <td>426.65225</td>\n",
       "      <td>153180.00000</td>\n",
       "      <td>313020.00000</td>\n",
       "      <td>0.07394</td>\n",
       "      <td>1945.38600</td>\n",
       "      <td>1282.88250</td>\n",
       "      <td>75058.20000</td>\n",
       "      <td>12609.77760</td>\n",
       "      <td>3366.81062</td>\n",
       "      <td>0.75709</td>\n",
       "      <td>2983.08060</td>\n",
       "      <td>0.00000</td>\n",
       "      <td>7.48570</td>\n",
       "    </tr>\n",
       "    <tr>\n",
       "      <th>1</th>\n",
       "      <td>900933</td>\n",
       "      <td>14590.06190</td>\n",
       "      <td>1526013.44000</td>\n",
       "      <td>1526013.44000</td>\n",
       "      <td>0.07117</td>\n",
       "      <td>24721.41773</td>\n",
       "      <td>14497.12768</td>\n",
       "      <td>656185.77920</td>\n",
       "      <td>131237.15580</td>\n",
       "      <td>26247.43117</td>\n",
       "      <td>0.43887</td>\n",
       "      <td>83686.57705</td>\n",
       "      <td>0.47712</td>\n",
       "      <td>6.54998</td>\n",
       "    </tr>\n",
       "    <tr>\n",
       "      <th>2</th>\n",
       "      <td>900953</td>\n",
       "      <td>257.64200</td>\n",
       "      <td>114720.00000</td>\n",
       "      <td>305920.00000</td>\n",
       "      <td>0.06459</td>\n",
       "      <td>1300.16000</td>\n",
       "      <td>1132.86000</td>\n",
       "      <td>26385.60000</td>\n",
       "      <td>6306.15840</td>\n",
       "      <td>1690.05045</td>\n",
       "      <td>0.46263</td>\n",
       "      <td>7210.53440</td>\n",
       "      <td>0.47712</td>\n",
       "      <td>5.95208</td>\n",
       "    </tr>\n",
       "    <tr>\n",
       "      <th>3</th>\n",
       "      <td>900951</td>\n",
       "      <td>380.72475</td>\n",
       "      <td>35000.00000</td>\n",
       "      <td>96250.00000</td>\n",
       "      <td>-0.03581</td>\n",
       "      <td>500.50000</td>\n",
       "      <td>319.37500</td>\n",
       "      <td>5600.00000</td>\n",
       "      <td>1430.80000</td>\n",
       "      <td>283.29840</td>\n",
       "      <td>1.01519</td>\n",
       "      <td>1785.43750</td>\n",
       "      <td>1.38021</td>\n",
       "      <td>5.57385</td>\n",
       "    </tr>\n",
       "    <tr>\n",
       "      <th>4</th>\n",
       "      <td>900922</td>\n",
       "      <td>385.75051</td>\n",
       "      <td>31516.53000</td>\n",
       "      <td>31516.53000</td>\n",
       "      <td>0.03195</td>\n",
       "      <td>485.35456</td>\n",
       "      <td>185.15961</td>\n",
       "      <td>5042.64480</td>\n",
       "      <td>950.53854</td>\n",
       "      <td>182.50340</td>\n",
       "      <td>1.27798</td>\n",
       "      <td>820.69044</td>\n",
       "      <td>1.07918</td>\n",
       "      <td>5.70060</td>\n",
       "    </tr>\n",
       "  </tbody>\n",
       "</table>\n",
       "</div>"
      ],
      "text/plain": [
       "   Stock Code  Investment2019  Market Value of Equity  Total Market Value  \\\n",
       "0      900956       426.65225            153180.00000        313020.00000   \n",
       "1      900933     14590.06190           1526013.44000       1526013.44000   \n",
       "2      900953       257.64200            114720.00000        305920.00000   \n",
       "3      900951       380.72475             35000.00000         96250.00000   \n",
       "4      900922       385.75051             31516.53000         31516.53000   \n",
       "\n",
       "   Stock Return  Total Investment Expenditure  Amortization and Depreciation  \\\n",
       "0       0.07394                    1945.38600                     1282.88250   \n",
       "1       0.07117                   24721.41773                    14497.12768   \n",
       "2       0.06459                    1300.16000                     1132.86000   \n",
       "3      -0.03581                     500.50000                      319.37500   \n",
       "4       0.03195                     485.35456                      185.15961   \n",
       "\n",
       "    Book Value  Operating Income after Depreciation  Annual Dividends  \\\n",
       "0  75058.20000                          12609.77760        3366.81062   \n",
       "1 656185.77920                         131237.15580       26247.43117   \n",
       "2  26385.60000                           6306.15840        1690.05045   \n",
       "3   5600.00000                           1430.80000         283.29840   \n",
       "4   5042.64480                            950.53854         182.50340   \n",
       "\n",
       "   Leverage        Cash     Age    Size  \n",
       "0   0.75709  2983.08060 0.00000 7.48570  \n",
       "1   0.43887 83686.57705 0.47712 6.54998  \n",
       "2   0.46263  7210.53440 0.47712 5.95208  \n",
       "3   1.01519  1785.43750 1.38021 5.57385  \n",
       "4   1.27798   820.69044 1.07918 5.70060  "
      ]
     },
     "execution_count": 70,
     "metadata": {},
     "output_type": "execute_result"
    }
   ],
   "source": [
    "regression_samples = pd.read_csv(\"samples_for_regression.csv\")\n",
    "del regression_samples['Unnamed: 0']    # This just gets rid of the extra index (0) column that was written with the merge.\n",
    "\n",
    "regression_samples.head()"
   ]
  },
  {
   "cell_type": "markdown",
   "metadata": {},
   "source": [
    "## Plotting the distribution of the new aggregated CSV:"
   ]
  },
  {
   "cell_type": "code",
   "execution_count": 71,
   "metadata": {
    "scrolled": false
   },
   "outputs": [
    {
     "data": {
      "image/png": "[encoded data removed]",
      "text/plain": [
       "<Figure size 720x360 with 1 Axes>"
      ]
     },
     "metadata": {
      "needs_background": "light"
     },
     "output_type": "display_data"
    },
    {
     "data": {
      "image/png": "[encoded data removed]",
      "text/plain": [
       "<Figure size 720x360 with 1 Axes>"
      ]
     },
     "metadata": {
      "needs_background": "light"
     },
     "output_type": "display_data"
    },
    {
     "data": {
      "image/png": "[encoded data removed]",
      "text/plain": [
       "<Figure size 720x360 with 1 Axes>"
      ]
     },
     "metadata": {
      "needs_background": "light"
     },
     "output_type": "display_data"
    },
    {
     "data": {
      "image/png": "[encoded data removed]",
      "text/plain": [
       "<Figure size 720x360 with 1 Axes>"
      ]
     },
     "metadata": {
      "needs_background": "light"
     },
     "output_type": "display_data"
    },
    {
     "data": {
      "image/png": "[encoded data removed]",
      "text/plain": [
       "<Figure size 720x360 with 1 Axes>"
      ]
     },
     "metadata": {
      "needs_background": "light"
     },
     "output_type": "display_data"
    },
    {
     "data": {
      "image/png": "[encoded data removed]",
      "text/plain": [
       "<Figure size 720x360 with 1 Axes>"
      ]
     },
     "metadata": {
      "needs_background": "light"
     },
     "output_type": "display_data"
    },
    {
     "data": {
      "image/png": "[encoded data removed]",
      "text/plain": [
       "<Figure size 720x360 with 1 Axes>"
      ]
     },
     "metadata": {
      "needs_background": "light"
     },
     "output_type": "display_data"
    },
    {
     "data": {
      "image/png": "[encoded data removed]",
      "text/plain": [
       "<Figure size 720x360 with 1 Axes>"
      ]
     },
     "metadata": {
      "needs_background": "light"
     },
     "output_type": "display_data"
    },
    {
     "data": {
      "image/png": "[encoded data removed]",
      "text/plain": [
       "<Figure size 720x360 with 1 Axes>"
      ]
     },
     "metadata": {
      "needs_background": "light"
     },
     "output_type": "display_data"
    },
    {
     "data": {
      "image/png": "[encoded data removed]",
      "text/plain": [
       "<Figure size 720x360 with 1 Axes>"
      ]
     },
     "metadata": {
      "needs_background": "light"
     },
     "output_type": "display_data"
    },
    {
     "data": {
      "image/png": "[encoded data removed]",
      "text/plain": [
       "<Figure size 720x360 with 1 Axes>"
      ]
     },
     "metadata": {
      "needs_background": "light"
     },
     "output_type": "display_data"
    },
    {
     "data": {
      "image/png": "[encoded data removed]",
      "text/plain": [
       "<Figure size 720x360 with 1 Axes>"
      ]
     },
     "metadata": {
      "needs_background": "light"
     },
     "output_type": "display_data"
    },
    {
     "data": {
      "image/png": "[encoded data removed]",
      "text/plain": [
       "<Figure size 720x360 with 1 Axes>"
      ]
     },
     "metadata": {
      "needs_background": "light"
     },
     "output_type": "display_data"
    },
    {
     "data": {
      "image/png": "[encoded data removed]",
      "text/plain": [
       "<Figure size 720x360 with 1 Axes>"
      ]
     },
     "metadata": {
      "needs_background": "light"
     },
     "output_type": "display_data"
    }
   ],
   "source": [
    "plot_columns(regression_samples)    # Plots the Boxplot Distributions for all columns in the newly merged DF."
   ]
  },
  {
   "cell_type": "markdown",
   "metadata": {},
   "source": [
    "## Descriptive statistic summary:"
   ]
  },
  {
   "cell_type": "code",
   "execution_count": 72,
   "metadata": {},
   "outputs": [
    {
     "data": {
      "text/html": [
       "<div>\n",
       "<style scoped>\n",
       "    .dataframe tbody tr th:only-of-type {\n",
       "        vertical-align: middle;\n",
       "    }\n",
       "\n",
       "    .dataframe tbody tr th {\n",
       "        vertical-align: top;\n",
       "    }\n",
       "\n",
       "    .dataframe thead th {\n",
       "        text-align: right;\n",
       "    }\n",
       "</style>\n",
       "<table border=\"1\" class=\"dataframe\">\n",
       "  <thead>\n",
       "    <tr style=\"text-align: right;\">\n",
       "      <th></th>\n",
       "      <th>Stock Code</th>\n",
       "      <th>Investment2019</th>\n",
       "      <th>Market Value of Equity</th>\n",
       "      <th>Total Market Value</th>\n",
       "      <th>Stock Return</th>\n",
       "      <th>Total Investment Expenditure</th>\n",
       "      <th>Amortization and Depreciation</th>\n",
       "      <th>Book Value</th>\n",
       "      <th>Operating Income after Depreciation</th>\n",
       "      <th>Annual Dividends</th>\n",
       "      <th>Leverage</th>\n",
       "      <th>Cash</th>\n",
       "      <th>Age</th>\n",
       "      <th>Size</th>\n",
       "    </tr>\n",
       "  </thead>\n",
       "  <tbody>\n",
       "    <tr>\n",
       "      <th>count</th>\n",
       "      <td>1607.00000</td>\n",
       "      <td>1607.00000</td>\n",
       "      <td>1607.00000</td>\n",
       "      <td>1607.00000</td>\n",
       "      <td>1607.00000</td>\n",
       "      <td>1607.00000</td>\n",
       "      <td>1607.00000</td>\n",
       "      <td>1607.00000</td>\n",
       "      <td>1607.00000</td>\n",
       "      <td>1607.00000</td>\n",
       "      <td>1607.00000</td>\n",
       "      <td>1607.00000</td>\n",
       "      <td>1607.00000</td>\n",
       "      <td>1607.00000</td>\n",
       "    </tr>\n",
       "    <tr>\n",
       "      <th>mean</th>\n",
       "      <td>321838.37834</td>\n",
       "      <td>98981.52387</td>\n",
       "      <td>10083395.90927</td>\n",
       "      <td>12164137.94314</td>\n",
       "      <td>0.08627</td>\n",
       "      <td>138203.08682</td>\n",
       "      <td>80072.19751</td>\n",
       "      <td>4025870.74646</td>\n",
       "      <td>898375.64674</td>\n",
       "      <td>201256.88754</td>\n",
       "      <td>0.70428</td>\n",
       "      <td>364682.49175</td>\n",
       "      <td>1.04459</td>\n",
       "      <td>5.68297</td>\n",
       "    </tr>\n",
       "    <tr>\n",
       "      <th>std</th>\n",
       "      <td>278152.41551</td>\n",
       "      <td>422004.77205</td>\n",
       "      <td>50835640.10769</td>\n",
       "      <td>51833364.15097</td>\n",
       "      <td>0.11499</td>\n",
       "      <td>716284.62509</td>\n",
       "      <td>454789.67937</td>\n",
       "      <td>23795829.99373</td>\n",
       "      <td>5250996.76893</td>\n",
       "      <td>1320404.16322</td>\n",
       "      <td>0.33767</td>\n",
       "      <td>1995346.48865</td>\n",
       "      <td>0.41726</td>\n",
       "      <td>0.65597</td>\n",
       "    </tr>\n",
       "    <tr>\n",
       "      <th>min</th>\n",
       "      <td>8.00000</td>\n",
       "      <td>34.17340</td>\n",
       "      <td>24128.61000</td>\n",
       "      <td>24128.61000</td>\n",
       "      <td>-0.48260</td>\n",
       "      <td>398.12207</td>\n",
       "      <td>177.94850</td>\n",
       "      <td>4825.72200</td>\n",
       "      <td>950.53854</td>\n",
       "      <td>182.50340</td>\n",
       "      <td>0.13082</td>\n",
       "      <td>116.54119</td>\n",
       "      <td>0.00000</td>\n",
       "      <td>3.24265</td>\n",
       "    </tr>\n",
       "    <tr>\n",
       "      <th>25%</th>\n",
       "      <td>2512.00000</td>\n",
       "      <td>12823.87616</td>\n",
       "      <td>1701144.50000</td>\n",
       "      <td>2633001.16500</td>\n",
       "      <td>0.03220</td>\n",
       "      <td>20411.62806</td>\n",
       "      <td>12708.86678</td>\n",
       "      <td>551810.81985</td>\n",
       "      <td>120477.86875</td>\n",
       "      <td>25824.62249</td>\n",
       "      <td>0.40607</td>\n",
       "      <td>53478.19702</td>\n",
       "      <td>0.77815</td>\n",
       "      <td>5.30550</td>\n",
       "    </tr>\n",
       "    <tr>\n",
       "      <th>50%</th>\n",
       "      <td>300521.00000</td>\n",
       "      <td>27783.61698</td>\n",
       "      <td>3018301.92000</td>\n",
       "      <td>4251753.07000</td>\n",
       "      <td>0.06711</td>\n",
       "      <td>40662.10106</td>\n",
       "      <td>23947.30916</td>\n",
       "      <td>1126956.60000</td>\n",
       "      <td>251945.35480</td>\n",
       "      <td>52012.41771</td>\n",
       "      <td>0.70243</td>\n",
       "      <td>111193.03480</td>\n",
       "      <td>1.17609</td>\n",
       "      <td>5.71000</td>\n",
       "    </tr>\n",
       "    <tr>\n",
       "      <th>75%</th>\n",
       "      <td>600966.50000</td>\n",
       "      <td>64603.13716</td>\n",
       "      <td>6573004.11000</td>\n",
       "      <td>8631754.34500</td>\n",
       "      <td>0.11619</td>\n",
       "      <td>88086.77780</td>\n",
       "      <td>50029.23602</td>\n",
       "      <td>2511407.63500</td>\n",
       "      <td>560347.51760</td>\n",
       "      <td>116466.12690</td>\n",
       "      <td>0.99865</td>\n",
       "      <td>235952.57955</td>\n",
       "      <td>1.36173</td>\n",
       "      <td>6.07877</td>\n",
       "    </tr>\n",
       "    <tr>\n",
       "      <th>max</th>\n",
       "      <td>900956.00000</td>\n",
       "      <td>10254931.74000</td>\n",
       "      <td>1486081997.00000</td>\n",
       "      <td>1486081997.00000</td>\n",
       "      <td>1.86317</td>\n",
       "      <td>20359323.36000</td>\n",
       "      <td>14489299.47000</td>\n",
       "      <td>653876078.90000</td>\n",
       "      <td>157584135.00000</td>\n",
       "      <td>42390132.32000</td>\n",
       "      <td>1.28498</td>\n",
       "      <td>54316297.00000</td>\n",
       "      <td>1.51851</td>\n",
       "      <td>8.50990</td>\n",
       "    </tr>\n",
       "  </tbody>\n",
       "</table>\n",
       "</div>"
      ],
      "text/plain": [
       "        Stock Code  Investment2019  Market Value of Equity  \\\n",
       "count   1607.00000      1607.00000              1607.00000   \n",
       "mean  321838.37834     98981.52387          10083395.90927   \n",
       "std   278152.41551    422004.77205          50835640.10769   \n",
       "min        8.00000        34.17340             24128.61000   \n",
       "25%     2512.00000     12823.87616           1701144.50000   \n",
       "50%   300521.00000     27783.61698           3018301.92000   \n",
       "75%   600966.50000     64603.13716           6573004.11000   \n",
       "max   900956.00000  10254931.74000        1486081997.00000   \n",
       "\n",
       "       Total Market Value  Stock Return  Total Investment Expenditure  \\\n",
       "count          1607.00000    1607.00000                    1607.00000   \n",
       "mean       12164137.94314       0.08627                  138203.08682   \n",
       "std        51833364.15097       0.11499                  716284.62509   \n",
       "min           24128.61000      -0.48260                     398.12207   \n",
       "25%         2633001.16500       0.03220                   20411.62806   \n",
       "50%         4251753.07000       0.06711                   40662.10106   \n",
       "75%         8631754.34500       0.11619                   88086.77780   \n",
       "max      1486081997.00000       1.86317                20359323.36000   \n",
       "\n",
       "       Amortization and Depreciation      Book Value  \\\n",
       "count                     1607.00000      1607.00000   \n",
       "mean                     80072.19751   4025870.74646   \n",
       "std                     454789.67937  23795829.99373   \n",
       "min                        177.94850      4825.72200   \n",
       "25%                      12708.86678    551810.81985   \n",
       "50%                      23947.30916   1126956.60000   \n",
       "75%                      50029.23602   2511407.63500   \n",
       "max                   14489299.47000 653876078.90000   \n",
       "\n",
       "       Operating Income after Depreciation  Annual Dividends   Leverage  \\\n",
       "count                           1607.00000        1607.00000 1607.00000   \n",
       "mean                          898375.64674      201256.88754    0.70428   \n",
       "std                          5250996.76893     1320404.16322    0.33767   \n",
       "min                              950.53854         182.50340    0.13082   \n",
       "25%                           120477.86875       25824.62249    0.40607   \n",
       "50%                           251945.35480       52012.41771    0.70243   \n",
       "75%                           560347.51760      116466.12690    0.99865   \n",
       "max                        157584135.00000    42390132.32000    1.28498   \n",
       "\n",
       "                Cash        Age       Size  \n",
       "count     1607.00000 1607.00000 1607.00000  \n",
       "mean    364682.49175    1.04459    5.68297  \n",
       "std    1995346.48865    0.41726    0.65597  \n",
       "min        116.54119    0.00000    3.24265  \n",
       "25%      53478.19702    0.77815    5.30550  \n",
       "50%     111193.03480    1.17609    5.71000  \n",
       "75%     235952.57955    1.36173    6.07877  \n",
       "max   54316297.00000    1.51851    8.50990  "
      ]
     },
     "execution_count": 72,
     "metadata": {},
     "output_type": "execute_result"
    },
    {
     "name": "stdout",
     "output_type": "stream",
     "text": [
      "---------Stock Code---------\n",
      "IQR:  598454.5\n",
      "Q1: 2512.0\n",
      "Q3: 600966.5\n",
      "bottom shadow: -895169.75\n",
      "top shadow 1498648.25\n",
      "range:  2393818.0 \n",
      "\n",
      "---------Investment2019---------\n",
      "IQR:  51779.26099\n",
      "Q1: 12823.876165\n",
      "Q3: 64603.137155000004\n",
      "bottom shadow: -64845.01532\n",
      "top shadow 142272.02864\n",
      "range:  207117.04396 \n",
      "\n",
      "---------Market Value of Equity---------\n",
      "IQR:  4871859.609999999\n",
      "Q1: 1701144.5\n",
      "Q3: 6573004.109999999\n",
      "bottom shadow: -5606644.914999999\n",
      "top shadow 13880793.524999999\n",
      "range:  19487438.439999998 \n",
      "\n",
      "---------Total Market Value---------\n",
      "IQR:  5998753.179999999\n",
      "Q1: 2633001.165\n",
      "Q3: 8631754.344999999\n",
      "bottom shadow: -6365128.604999998\n",
      "top shadow 17629884.114999995\n",
      "range:  23995012.71999999 \n",
      "\n",
      "---------Stock Return---------\n",
      "IQR:  0.08398800000000001\n",
      "Q1: 0.032197\n",
      "Q3: 0.11618500000000001\n",
      "bottom shadow: -0.09378500000000001\n",
      "top shadow 0.24216700000000002\n",
      "range:  0.33595200000000003 \n",
      "\n",
      "---------Total Investment Expenditure---------\n",
      "IQR:  67675.149745\n",
      "Q1: 20411.628055\n",
      "Q3: 88086.77780000001\n",
      "bottom shadow: -81101.0965625\n",
      "top shadow 189599.5024175\n",
      "range:  270700.59898 \n",
      "\n",
      "---------Amortization and Depreciation---------\n",
      "IQR:  37320.369235000006\n",
      "Q1: 12708.86678\n",
      "Q3: 50029.236015\n",
      "bottom shadow: -43271.687072500004\n",
      "top shadow 106009.78986750002\n",
      "range:  149281.47694000002 \n",
      "\n",
      "---------Book Value---------\n",
      "IQR:  1959596.8151499997\n",
      "Q1: 551810.8198500001\n",
      "Q3: 2511407.635\n",
      "bottom shadow: -2387584.402874999\n",
      "top shadow 5450802.857724999\n",
      "range:  7838387.260599999 \n",
      "\n",
      "---------Operating Income after Depreciation---------\n",
      "IQR:  439869.6488499999\n",
      "Q1: 120477.86875\n",
      "Q3: 560347.5175999999\n",
      "bottom shadow: -539326.6045249997\n",
      "top shadow 1220151.9908749997\n",
      "range:  1759478.5953999995 \n",
      "\n",
      "---------Annual Dividends---------\n",
      "IQR:  90641.504405\n",
      "Q1: 25824.622495\n",
      "Q3: 116466.1269\n",
      "bottom shadow: -110137.63411249999\n",
      "top shadow 252428.3835075\n",
      "range:  362566.01762 \n",
      "\n",
      "---------Leverage---------\n",
      "IQR:  0.59258\n",
      "Q1: 0.40607000000000004\n",
      "Q3: 0.99865\n",
      "bottom shadow: -0.4828\n",
      "top shadow 1.88752\n",
      "range:  2.37032 \n",
      "\n",
      "---------Cash---------\n",
      "IQR:  182474.38253\n",
      "Q1: 53478.19702\n",
      "Q3: 235952.57955\n",
      "bottom shadow: -220233.37677499998\n",
      "top shadow 509664.153345\n",
      "range:  729897.53012 \n",
      "\n",
      "---------Age---------\n",
      "IQR:  0.5835765860000001\n",
      "Q1: 0.77815125\n",
      "Q3: 1.361727836\n",
      "bottom shadow: -0.09721362900000019\n",
      "top shadow 2.237092715\n",
      "range:  2.3343063440000003 \n",
      "\n",
      "---------Size---------\n",
      "IQR:  0.7732643004999993\n",
      "Q1: 5.3055045715\n",
      "Q3: 6.0787688719999995\n",
      "bottom shadow: 4.145608120750001\n",
      "top shadow 7.238665322749998\n",
      "range:  3.093057201999997 \n",
      "\n"
     ]
    }
   ],
   "source": [
    "regression_samples.describe()    # Numerical info\n",
    "\n",
    "display_IQR(regression_samples)    # IQR + range info."
   ]
  },
  {
   "cell_type": "markdown",
   "metadata": {},
   "source": [
    "# Regression Analysis."
   ]
  },
  {
   "cell_type": "code",
   "execution_count": 73,
   "metadata": {},
   "outputs": [
    {
     "data": {
      "text/html": [
       "<div>\n",
       "<style scoped>\n",
       "    .dataframe tbody tr th:only-of-type {\n",
       "        vertical-align: middle;\n",
       "    }\n",
       "\n",
       "    .dataframe tbody tr th {\n",
       "        vertical-align: top;\n",
       "    }\n",
       "\n",
       "    .dataframe thead th {\n",
       "        text-align: right;\n",
       "    }\n",
       "</style>\n",
       "<table border=\"1\" class=\"dataframe\">\n",
       "  <thead>\n",
       "    <tr style=\"text-align: right;\">\n",
       "      <th></th>\n",
       "      <th>Stock Code</th>\n",
       "      <th>Investment2019</th>\n",
       "      <th>Market Value of Equity</th>\n",
       "      <th>Total Market Value</th>\n",
       "      <th>Stock Return</th>\n",
       "      <th>Total Investment Expenditure</th>\n",
       "      <th>Amortization and Depreciation</th>\n",
       "      <th>Book Value</th>\n",
       "      <th>Operating Income after Depreciation</th>\n",
       "      <th>Annual Dividends</th>\n",
       "      <th>Leverage</th>\n",
       "      <th>Cash</th>\n",
       "      <th>Age</th>\n",
       "      <th>Size</th>\n",
       "    </tr>\n",
       "  </thead>\n",
       "  <tbody>\n",
       "    <tr>\n",
       "      <th>0</th>\n",
       "      <td>900956</td>\n",
       "      <td>426.65225</td>\n",
       "      <td>153180.00000</td>\n",
       "      <td>313020.00000</td>\n",
       "      <td>0.07394</td>\n",
       "      <td>1945.38600</td>\n",
       "      <td>1282.88250</td>\n",
       "      <td>75058.20000</td>\n",
       "      <td>12609.77760</td>\n",
       "      <td>3366.81062</td>\n",
       "      <td>0.75709</td>\n",
       "      <td>2983.08060</td>\n",
       "      <td>0.00000</td>\n",
       "      <td>7.48570</td>\n",
       "    </tr>\n",
       "  </tbody>\n",
       "</table>\n",
       "</div>"
      ],
      "text/plain": [
       "   Stock Code  Investment2019  Market Value of Equity  Total Market Value  \\\n",
       "0      900956       426.65225            153180.00000        313020.00000   \n",
       "\n",
       "   Stock Return  Total Investment Expenditure  Amortization and Depreciation  \\\n",
       "0       0.07394                    1945.38600                     1282.88250   \n",
       "\n",
       "   Book Value  Operating Income after Depreciation  Annual Dividends  \\\n",
       "0 75058.20000                          12609.77760        3366.81062   \n",
       "\n",
       "   Leverage       Cash     Age    Size  \n",
       "0   0.75709 2983.08060 0.00000 7.48570  "
      ]
     },
     "execution_count": 73,
     "metadata": {},
     "output_type": "execute_result"
    }
   ],
   "source": [
    "regression_samples.head(1)    # This is just for easy reading of the feature names."
   ]
  },
  {
   "cell_type": "markdown",
   "metadata": {},
   "source": [
    "## Reshape the data, so it can be normalised."
   ]
  },
  {
   "cell_type": "code",
   "execution_count": 74,
   "metadata": {},
   "outputs": [],
   "source": [
    "#Stock_Codes = regression_samples['Stock Code'].values.reshape(-1, 1)\n",
    "\n",
    "Investment2019 = regression_samples['Investment2019'].values.reshape(-1, 1)\n",
    "\n",
    "Market_Value_Of_Equity2018 = regression_samples['Market Value of Equity'].values.reshape(-1, 1)\n",
    "\n",
    "Total_Market_Value2018 = regression_samples['Total Market Value'].values.reshape(-1, 1) #!!!!!!\n",
    "\n",
    "Stock_Returns2018 = regression_samples['Stock Return'].values.reshape(-1, 1)\n",
    "\n",
    "Total_Investment_Expenditure2018 = regression_samples['Total Investment Expenditure'].values.reshape(-1, 1)\n",
    "\n",
    "Amortization_And_Depreciation2018 = regression_samples['Amortization and Depreciation'].values.reshape(-1, 1)\n",
    "\n",
    "Book_Value2018 = regression_samples['Book Value'].values.reshape(-1, 1)\n",
    "\n",
    "Operating_Income_After_Depreciation2018 = regression_samples['Operating Income after Depreciation'].values.reshape(-1, 1)\n",
    "\n",
    "Annual_Dividends2018 = regression_samples['Annual Dividends'].values.reshape(-1, 1)\n",
    "\n",
    "Leverage2018 = regression_samples['Leverage'].values.reshape(-1, 1)\n",
    "\n",
    "Cash2018 = regression_samples['Cash'].values.reshape(-1, 1)\n",
    "\n",
    "Age2018 = regression_samples['Age'].values.reshape(-1, 1)\n",
    "\n",
    "Size2018 = regression_samples['Size'].values.reshape(-1, 1)\n",
    "\n",
    "\n",
    "# Calculate the sub elements for equation 2:\n",
    "VP2018 = ((1 - 1.24 * 0.12) * Book_Value2018 + 1.24 * 1.12 * Operating_Income_After_Depreciation2018 - 1.24 * 0.12 * \n",
    "          Annual_Dividends2018) / Market_Value_Of_Equity2018\n",
    "\n",
    "Investment2018 = Total_Investment_Expenditure2018 - Amortization_And_Depreciation2018\n"
   ]
  },
  {
   "cell_type": "markdown",
   "metadata": {},
   "source": [
    "## Normalise the data with varied ranges to the same range:"
   ]
  },
  {
   "cell_type": "code",
   "execution_count": 75,
   "metadata": {},
   "outputs": [],
   "source": [
    "# Scalers----\n",
    "Investment2019_scaler = MinMaxScaler()\n",
    "\n",
    "VP_scaler = MinMaxScaler()\n",
    "Leverage_scaler = MinMaxScaler()\n",
    "Cash_scaler = MinMaxScaler()\n",
    "Age_scaler = MinMaxScaler()\n",
    "Size_scaler = MinMaxScaler()\n",
    "Stock_Returns_scaler = MinMaxScaler()\n",
    "Investment2018_scaler = MinMaxScaler()\n",
    "\n",
    "# Normalised features\n",
    "norm_Investment2019 = Investment2019_scaler.fit_transform(Investment2019).reshape(-1)\n",
    "\n",
    "norm_VP = VP_scaler.fit_transform(VP2018).reshape(-1)\n",
    "norm_Leverage = Leverage_scaler.fit_transform(Leverage2018).reshape(-1)\n",
    "norm_Cash = Cash_scaler.fit_transform(Cash2018).reshape(-1)\n",
    "norm_Age = Age_scaler.fit_transform(Age2018).reshape(-1)\n",
    "norm_Size = Size_scaler.fit_transform(Size2018).reshape(-1)\n",
    "norm_Stock_Returns = Stock_Returns_scaler.fit_transform(Stock_Returns2018).reshape(-1)\n",
    "norm_Investment2018 = Investment2018_scaler.fit_transform(Investment2018).reshape(-1)\n"
   ]
  },
  {
   "cell_type": "markdown",
   "metadata": {},
   "source": [
    "# Graphing of the initial normalised data - 7th variable cannot be included (norm_Investment2018)"
   ]
  },
  {
   "cell_type": "code",
   "execution_count": 76,
   "metadata": {
    "scrolled": false
   },
   "outputs": [
    {
     "data": {
      "image/png": "[encoded data removed]",
      "text/plain": [
       "<Figure size 400x300 with 1 Axes>"
      ]
     },
     "metadata": {
      "needs_background": "light"
     },
     "output_type": "display_data"
    }
   ],
   "source": [
    "graphWidth = 400    \n",
    "graphHeight = 300\n",
    "\n",
    "# 6 Features in 3D Space. \n",
    "\n",
    "f = plt.figure(figsize = (graphWidth / 100.0, graphHeight / 100.0), dpi = 100)\n",
    "axes = Axes3D(f)\n",
    "axes.scatter(norm_VP, norm_Leverage, norm_Cash, norm_Age, norm_Size, norm_Stock_Returns)\n",
    "plt.show();"
   ]
  },
  {
   "cell_type": "markdown",
   "metadata": {},
   "source": [
    "## Fit the data, calculate R2 Score, Errors(Metrics) and coefficients for later use."
   ]
  },
  {
   "cell_type": "code",
   "execution_count": 77,
   "metadata": {},
   "outputs": [
    {
     "name": "stdout",
     "output_type": "stream",
     "text": [
      "Total shape of features:  (1607, 7)\n",
      "\n",
      " Coefficient:  [ 0.00251317  0.00085292  0.14835297  0.00225933 -0.0111714  -0.00092247\n",
      "  0.72114209] \n",
      " Intercept:  -0.03346429142157577 \n",
      "\n",
      "R2 score:  0.8524018670658543\n",
      "\n",
      "------------Errors-------------\n",
      "Mean Absolute Error: 0.005095102787781757\n",
      "Mean Squared Error: 0.0002497943429217485\n",
      "Root Mean Squared Error: 0.015804883514969306\n"
     ]
    }
   ],
   "source": [
    "x_y_data_d = np.array((norm_VP, norm_Leverage, norm_Cash, norm_Age, norm_Size, norm_Stock_Returns, norm_Investment2018)).T\n",
    "print(\"Total shape of features: \", x_y_data_d.shape)    # (1607, 7)\n",
    "x_y_data_d = np.reshape(x_y_data_d, (1607, 7))\n",
    "\n",
    "model = LinearRegression().fit(x_y_data_d, norm_Investment2019)\n",
    "print(\"\\n\", \"Coefficient: \", model.coef_, \"\\n Intercept: \", model.intercept_, \"\\n\") \n",
    "\n",
    "y = np.array((norm_Investment2019)).T\n",
    "y_pred = model.predict(x_y_data_d)\n",
    "\n",
    "R2_score = r2_score(y, y_pred)\n",
    "print(\"R2 score: \", R2_score)\n",
    "\n",
    "print()\n",
    "print(\"------------Errors-------------\")\n",
    "print('Mean Absolute Error:', metrics.mean_absolute_error(norm_Investment2019, y_pred))\n",
    "print('Mean Squared Error:', metrics.mean_squared_error(norm_Investment2019, y_pred))\n",
    "print('Root Mean Squared Error:', np.sqrt(metrics.mean_squared_error(norm_Investment2019, y_pred)))\n",
    "\n",
    "# Initial Coef + intercept for the linear model.\n",
    "parameters = [0.00246073, -0.00186629,  0.24632236, -0.00088496, -0.01204566, 0.0001159, 0.11838744, 0.00437020162117006]\n"
   ]
  },
  {
   "cell_type": "markdown",
   "metadata": {},
   "source": [
    "# Plot Initial errors - R2."
   ]
  },
  {
   "cell_type": "code",
   "execution_count": 78,
   "metadata": {},
   "outputs": [
    {
     "data": {
      "image/png": "[encoded data removed]",
      "text/plain": [
       "<Figure size 720x360 with 1 Axes>"
      ]
     },
     "metadata": {
      "needs_background": "light"
     },
     "output_type": "display_data"
    }
   ],
   "source": [
    "plt.scatter(y, y_pred)\n",
    "plt.xlabel('Actual values')\n",
    "plt.ylabel('Predicted values')\n",
    "\n",
    "plt.plot(np.unique(y), np.poly1d(np.polyfit(y, y_pred, 1))(np.unique(y_pred)))\n",
    "\n",
    "plt.text(0.7, 0.2, 'R-squared = %0.2f' % R2_score)\n",
    "plt.show();"
   ]
  },
  {
   "cell_type": "markdown",
   "metadata": {},
   "source": [
    "## Calculate the correct regression plane using gradient descent"
   ]
  },
  {
   "cell_type": "code",
   "execution_count": 79,
   "metadata": {
    "scrolled": false
   },
   "outputs": [
    {
     "data": {
      "text/plain": [
       "[<matplotlib.lines.Line2D at 0x1ff75006e08>]"
      ]
     },
     "execution_count": 79,
     "metadata": {},
     "output_type": "execute_result"
    },
    {
     "data": {
      "image/png": "[encoded data removed]",
      "text/plain": [
       "<Figure size 720x360 with 1 Axes>"
      ]
     },
     "metadata": {
      "needs_background": "light"
     },
     "output_type": "display_data"
    },
    {
     "name": "stdout",
     "output_type": "stream",
     "text": [
      "[ 0.0033223   0.00089154  0.50215747  0.00455477 -0.00519602  0.0768879\n",
      "  0.4885052  -0.04518489]\n"
     ]
    }
   ],
   "source": [
    "parameters = [1, 1, 1, 1, 1, 1, 1, 1]\n",
    "\n",
    "alpha = 0.1    # a\n",
    "\n",
    "x = np.array([norm_VP, norm_Leverage, norm_Cash, norm_Age, norm_Size, norm_Stock_Returns, \n",
    "              norm_Investment2018, np.full(len(norm_VP), 1)]).T\n",
    "\n",
    "y = norm_Investment2019\n",
    "\n",
    "loss_history = []\n",
    "\n",
    "# The linear model ax + b\n",
    "def h(x):\n",
    "    return np.sum(parameters * x, axis = 1)\n",
    "\n",
    "# MSE loss function\n",
    "def loss(y_hat, y):\n",
    "    return np.sum(np.square(y - y_hat)) / len(y)\n",
    "\n",
    "# Calculate the current gradient\n",
    "def gradient(x, y_hat, y):\n",
    "    # (y - y_hat) is a 1d array shape = (full_data_length), it cannot multiply x,\n",
    "    # therefore it must be reshaped to [full_data_length, 1] (2D)\n",
    "    \n",
    "    # returns a numpy array [gradients for w1, w2, w3...]\n",
    "    return -2 / len(y) * np.sum(x * (y - y_hat).reshape((y-y_hat).shape[0], 1), axis = 0)\n",
    "\n",
    "\n",
    "for i in range(0, 5000):\n",
    "    y_hat = h(x)\n",
    "    parameters = parameters - alpha * gradient(x, y_hat, y)\n",
    "    loss_history = loss_history + [loss(y_hat, y)]\n",
    "\n",
    "plt.plot(loss_history[-2000:])\n",
    "plt.show();\n",
    "\n",
    "print(parameters)    # Optimal Parameters, where value is closest to zero, before flattening completely.\n"
   ]
  },
  {
   "cell_type": "markdown",
   "metadata": {},
   "source": [
    "## Evaluate the model using K-Fold-Cross-Validation"
   ]
  },
  {
   "cell_type": "code",
   "execution_count": 80,
   "metadata": {},
   "outputs": [
    {
     "name": "stdout",
     "output_type": "stream",
     "text": [
      "R2 score for the  0  fold:  0.9459733428495366\n",
      "R2 score for the  1  fold:  0.6867846525375038\n",
      "R2 score for the  2  fold:  0.310540667304276\n",
      "R2 score for the  3  fold:  0.7605876643624463\n",
      "R2 score for the  4  fold:  -0.008995601468472003\n",
      "R2 score for the  5  fold:  0.732536567641318\n",
      "R2 score for the  6  fold:  0.7732074972533949\n",
      "R2 score for the  7  fold:  0.28007010883182626\n",
      "R2 score for the  8  fold:  0.38759100442295225\n",
      "R2 score for the  9  fold:  0.9294334976713476\n",
      "Mean R2 Score:  0.579772940140613\n",
      "Adjusted R2 Score:  0.5791836794396883\n"
     ]
    }
   ],
   "source": [
    "# This evaluates the efficacy of the LinearRegression model with the Gradient Descent's Optimal Parameters.\n",
    "\n",
    "kf = KFold(n_splits = 10)\n",
    "r2_scores = []\n",
    "counter = 0\n",
    "\n",
    "# kf.split(x) automatically generates array index for train and test data for 10 folds\n",
    "for train_index, test_index in kf.split(x):\n",
    "    x_train, x_test = x[train_index], x[test_index]\n",
    "    y_train, y_test = y[train_index], y[test_index]\n",
    "    \n",
    "    # start training 5000 times for one fold\n",
    "    for i in range(0, 5000):\n",
    "        # calculate the predicted y, for all x\n",
    "        y_hat = h(x_train)\n",
    "        \n",
    "        # update the whole parameter list using the latest gradient\n",
    "        parameters = parameters - alpha * gradient(x_train, y_hat, y_train)\n",
    "    \n",
    "    # Test the model using x_test and y_test, calculate the r2 score\n",
    "    r2_scores = r2_scores + [r2_score(y_test, h(x_test))]\n",
    "    print(\"R2 score for the \", counter, \" fold: \", r2_score(y_test, h(x_test)))\n",
    "    \n",
    "    counter = counter + 1\n",
    "\n",
    "\n",
    "mean_r2 = np.mean(r2_scores)\n",
    "print(\"Mean R2 Score: \", mean_r2)    # (0.579772940140613)\n",
    "\n",
    "n = 5000    # Size of fold\n",
    "p = 7       # Number of features\n",
    "Adj_r2 = 1-(1-mean_r2)*(n-1)/(n-p-1)\n",
    "print(\"Adjusted R2 Score: \", Adj_r2) # (0.5791836794396883)\n"
   ]
  },
  {
   "cell_type": "markdown",
   "metadata": {},
   "source": [
    "# Calculate The Expected Investment 2019, and determine overinvested companies."
   ]
  },
  {
   "cell_type": "code",
   "execution_count": 81,
   "metadata": {},
   "outputs": [
    {
     "data": {
      "text/html": [
       "<div>\n",
       "<style scoped>\n",
       "    .dataframe tbody tr th:only-of-type {\n",
       "        vertical-align: middle;\n",
       "    }\n",
       "\n",
       "    .dataframe tbody tr th {\n",
       "        vertical-align: top;\n",
       "    }\n",
       "\n",
       "    .dataframe thead th {\n",
       "        text-align: right;\n",
       "    }\n",
       "</style>\n",
       "<table border=\"1\" class=\"dataframe\">\n",
       "  <thead>\n",
       "    <tr style=\"text-align: right;\">\n",
       "      <th></th>\n",
       "      <th>Overinvestment Value</th>\n",
       "    </tr>\n",
       "    <tr>\n",
       "      <th>Stock Code</th>\n",
       "      <th></th>\n",
       "    </tr>\n",
       "  </thead>\n",
       "  <tbody>\n",
       "    <tr>\n",
       "      <th>900947</th>\n",
       "      <td>19075.51026</td>\n",
       "    </tr>\n",
       "    <tr>\n",
       "      <th>600759</th>\n",
       "      <td>29675.49133</td>\n",
       "    </tr>\n",
       "  </tbody>\n",
       "</table>\n",
       "</div>"
      ],
      "text/plain": [
       "            Overinvestment Value\n",
       "Stock Code                      \n",
       "900947               19075.51026\n",
       "600759               29675.49133"
      ]
     },
     "execution_count": 81,
     "metadata": {},
     "output_type": "execute_result"
    },
    {
     "name": "stdout",
     "output_type": "stream",
     "text": [
      "Out of 1607 non-Null companies, 293 are overinvested.\n"
     ]
    }
   ],
   "source": [
    "a = alpha\n",
    "\n",
    "# This uses the optimal parameters from the gradient descent cell, as well as the normalised data to give us the EI2019.\n",
    "pred = (a + (0.0033223 * VP2018) + (0.00089154 * Leverage2018) + (0.50215747 * Cash2018) + (0.00455477 * Age2018) + \n",
    "    (-0.00519602 * Size2018) + (0.0768879 * Stock_Returns2018) + (0.4885052 * Investment2018))\n",
    "\n",
    "# Turn the data from numpy.nd array to pd.DF\n",
    "Expected_Investment2019 = pd.DataFrame(pred)\n",
    "Expected_Investment2019.rename(columns = {0 : 'Expected Investment 2019'}, inplace = True)\n",
    "\n",
    "# Calculate investment value in new DF.\n",
    "Investment_Amounts = pd.DataFrame()\n",
    "Investment_Amounts['Investment 2019'] = regression_samples['Investment2019']\n",
    "Investment_Amounts['Expected Investment 2019'] = Expected_Investment2019['Expected Investment 2019']\n",
    "Investment_Amounts['Overinvestment'] = Investment_Amounts['Investment 2019']-Investment_Amounts['Expected Investment 2019']\n",
    "\n",
    "# Final DF with stock code and the overinvested values of companies that are overinvested only.\n",
    "Overinvestment_2019 = pd.DataFrame()\n",
    "Overinvestment_2019['Stock Code'] = regression_samples['Stock Code']\n",
    "Overinvestment_2019['Overinvestment Value'] = Investment_Amounts['Overinvestment'][Investment_Amounts['Overinvestment'] >0]\n",
    "Overinvestment_2019.dropna(inplace = True)\n",
    "Overinvestment_2019.set_index(\"Stock Code\", inplace = True)\n",
    "\n",
    "Overinvestment_2019.head(2)\n",
    "\n",
    "# Console output of results.\n",
    "non_null = len(Expected_Investment2019['Expected Investment 2019'])\n",
    "no_overinvested = len(Overinvestment_2019['Overinvestment Value'])    # 293 Overinvested Companies, from the LR() Model.\n",
    "\n",
    "print(\"Out of %d non-Null companies, %d are overinvested.\" % (non_null, no_overinvested))\n",
    "\n",
    "# Write the data to the end csv.\n",
    "Overinvestment_2019.to_csv(\"./overinvestment_2019.csv\")\n"
   ]
  }
 ],
 "metadata": {
  "kernelspec": {
   "display_name": "Python 3",
   "language": "python",
   "name": "python3"
  },
  "language_info": {
   "codemirror_mode": {
    "name": "ipython",
    "version": 3
   },
   "file_extension": ".py",
   "mimetype": "text/x-python",
   "name": "python",
   "nbconvert_exporter": "python",
   "pygments_lexer": "ipython3",
   "version": "3.7.9"
  }
 },
 "nbformat": 4,
 "nbformat_minor": 4
}
